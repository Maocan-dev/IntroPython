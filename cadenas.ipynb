{
 "cells": [
  {
   "cell_type": "markdown",
   "metadata": {},
   "source": [
    "### Ejercicio 1"
   ]
  },
  {
   "cell_type": "code",
   "execution_count": 101,
   "metadata": {},
   "outputs": [
    {
     "name": "stdout",
     "output_type": "stream",
     "text": [
      " On average, the Moon moves 4cm away from the Earth every year\n",
      " The highest daylight temperature of the Moon is 127 Celcius\n"
     ]
    }
   ],
   "source": [
    "texto= \"\"\"Interesting facts about the Moon. The Moon is Earth's only satellite. There are several interesting facts about the Moon and how it affects life here on Earth. On average, the Moon moves 4cm away from the Earth every year. This yearly drift is not significant enough to cause immediate effects on Earth. The highest daylight temperature of the Moon is 127 C.\"\"\"\n",
    "texto2= texto.split('.')\n",
    "texto2\n",
    "\n",
    "palabras_clave = ['average', 'temperature', 'distance']\n",
    "\n",
    "for texto in texto2:\n",
    "    for palabra_clave in palabras_clave:\n",
    "        if palabra_clave in texto:\n",
    "            print (texto.replace('C', 'Celcius'))            \n",
    "            break        "
   ]
  },
  {
   "cell_type": "markdown",
   "metadata": {},
   "source": [
    "### Ejercicio 2"
   ]
  },
  {
   "cell_type": "code",
   "execution_count": 4,
   "metadata": {},
   "outputs": [
    {
     "name": "stdout",
     "output_type": "stream",
     "text": [
      "Gravity Facts About Ganímides\n",
      "---------------------------------------\n",
      "Planet Name: Marte\n",
      "Gravity on Ganímides : 1.43 m/s2\n"
     ]
    }
   ],
   "source": [
    "moon = \"Ganímides\"\n",
    "gravity = 0.00143 # in kms\n",
    "planet = \"Marte\"\n",
    "title = f\"\"\"gravity facts about {moon}\n",
    "---------------------------------------\"\"\"\n",
    "titleOk= title.title()\n",
    "text= f\"\"\"Planet Name: {planet}\n",
    "Gravity on {moon} : {round (1000*gravity, 2)} m/s2\"\"\"\n",
    "\n",
    "mitexto = (titleOk, text)\n",
    "\n",
    "for t in mitexto:\n",
    "    print (t)\n",
    "\n",
    "\n",
    "\n",
    "\n"
   ]
  }
 ],
 "metadata": {
  "interpreter": {
   "hash": "a1eb7790b52f251fb67fa16c0efa9028546606e65e6a0a85ca1221e382956b88"
  },
  "kernelspec": {
   "display_name": "Python 3.10.2 ('env': venv)",
   "language": "python",
   "name": "python3"
  },
  "language_info": {
   "codemirror_mode": {
    "name": "ipython",
    "version": 3
   },
   "file_extension": ".py",
   "mimetype": "text/x-python",
   "name": "python",
   "nbconvert_exporter": "python",
   "pygments_lexer": "ipython3",
   "version": "3.10.2"
  },
  "orig_nbformat": 4
 },
 "nbformat": 4,
 "nbformat_minor": 2
}
