{
 "cells": [
  {
   "cell_type": "markdown",
   "metadata": {},
   "source": [
    "### Argumentos en funciones"
   ]
  },
  {
   "cell_type": "code",
   "execution_count": 17,
   "metadata": {},
   "outputs": [
    {
     "name": "stdout",
     "output_type": "stream",
     "text": [
      "Combustible promedio 57%\n",
      "en tanque1 50%\n",
      "en tanque2 40%\n",
      "en tanque3 80%\n"
     ]
    }
   ],
   "source": [
    "def tanques(tanque1, tanque2, tanque3):\n",
    "    promedio = (tanque1 + tanque2 + tanque3)/3\n",
    "    return f\"\"\"Combustible promedio {round(promedio)}%\n",
    "en tanque1 {round(tanque1)}%\n",
    "en tanque2 {round(tanque2)}%\n",
    "en tanque3 {round(tanque3)}%\"\"\"\n",
    "\n",
    "print (tanques(50, 40, 80))\n",
    "\n",
    "    "
   ]
  },
  {
   "cell_type": "markdown",
   "metadata": {},
   "source": [
    "### Argumentos de palabra clave"
   ]
  },
  {
   "cell_type": "code",
   "execution_count": 35,
   "metadata": {},
   "outputs": [
    {
     "name": "stdout",
     "output_type": "stream",
     "text": [
      "\n",
      "    Destino luna\n",
      "    duracion del viaje 93\n",
      "    combustible 777\n",
      "    \n",
      "    tanque1:123\n",
      "    tanque2:654\n"
     ]
    }
   ],
   "source": [
    "\n",
    "def datos(destino, *minutos, **combustible):\n",
    "    informe = f\"\"\"\n",
    "    Destino {destino}\n",
    "    duracion del viaje {sum(minutos)}\n",
    "    combustible {sum(combustible.values())}\n",
    "    \"\"\"\n",
    "    for tanque, dato in combustible.items():\n",
    "       informe += (f\"\"\"\n",
    "    {tanque}:{dato}\"\"\")        \n",
    "    return informe\n",
    "   \n",
    "print (datos(\"luna\", 8,10,15,60, tanque1=123, tanque2=654))\n",
    "\n",
    "\n",
    "    "
   ]
  }
 ],
 "metadata": {
  "interpreter": {
   "hash": "a1eb7790b52f251fb67fa16c0efa9028546606e65e6a0a85ca1221e382956b88"
  },
  "kernelspec": {
   "display_name": "Python 3.10.2 ('env': venv)",
   "language": "python",
   "name": "python3"
  },
  "language_info": {
   "codemirror_mode": {
    "name": "ipython",
    "version": 3
   },
   "file_extension": ".py",
   "mimetype": "text/x-python",
   "name": "python",
   "nbconvert_exporter": "python",
   "pygments_lexer": "ipython3",
   "version": "3.10.2"
  },
  "orig_nbformat": 4
 },
 "nbformat": 4,
 "nbformat_minor": 2
}
