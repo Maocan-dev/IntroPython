{
 "cells": [
  {
   "cell_type": "markdown",
   "metadata": {},
   "source": [
    "### Operadores aritméticos"
   ]
  },
  {
   "cell_type": "code",
   "execution_count": 1,
   "metadata": {},
   "outputs": [
    {
     "name": "stdout",
     "output_type": "stream",
     "text": [
      "628949330\n",
      "1012195830.53952\n"
     ]
    }
   ],
   "source": [
    "tierra = 149597870\n",
    "jupiter = 778547200\n",
    "\n",
    "entrePlanetas= jupiter-tierra\n",
    "enMillas = entrePlanetas*1.609344\n",
    "print(entrePlanetas)\n",
    "print(enMillas)"
   ]
  },
  {
   "cell_type": "markdown",
   "metadata": {},
   "source": [
    "### Cadenas a numeros"
   ]
  },
  {
   "cell_type": "code",
   "execution_count": 10,
   "metadata": {},
   "outputs": [
    {
     "name": "stdout",
     "output_type": "stream",
     "text": [
      "entre el planeta uno y dos hay una distancia de : 80950003.2 kms\n",
      "entre el planeta uno y dos hay una distancia de : 50300000 millas\n"
     ]
    }
   ],
   "source": [
    "planetaUno = int(input (\"Distancia del planeta 1:\"))\n",
    "planetaDos = int(input (\"Distancia del planeta 2:\"))\n",
    "\n",
    "print(f\"entre el planeta uno y dos hay una distancia de : {abs(planetaUno-planetaDos)*1.609344} kms\")\n",
    "print(f\"entre el planeta uno y dos hay una distancia de : {abs(planetaUno-planetaDos)} millas\")\n"
   ]
  }
 ],
 "metadata": {
  "interpreter": {
   "hash": "a1eb7790b52f251fb67fa16c0efa9028546606e65e6a0a85ca1221e382956b88"
  },
  "kernelspec": {
   "display_name": "Python 3.10.2 ('env': venv)",
   "language": "python",
   "name": "python3"
  },
  "language_info": {
   "codemirror_mode": {
    "name": "ipython",
    "version": 3
   },
   "file_extension": ".py",
   "mimetype": "text/x-python",
   "name": "python",
   "nbconvert_exporter": "python",
   "pygments_lexer": "ipython3",
   "version": "3.10.2"
  },
  "orig_nbformat": 4
 },
 "nbformat": 4,
 "nbformat_minor": 2
}
