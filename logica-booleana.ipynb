{
 "cells": [
  {
   "cell_type": "markdown",
   "metadata": {},
   "source": [
    "## Practica 1"
   ]
  },
  {
   "cell_type": "code",
   "execution_count": 14,
   "metadata": {},
   "outputs": [
    {
     "name": "stdout",
     "output_type": "stream",
     "text": [
      "a es menor que b\n"
     ]
    }
   ],
   "source": [
    "a = 16\n",
    "b = 25\n",
    "c = 27\n",
    "if a > b:\n",
    "    if b > c:\n",
    "        print (\"a es mayor que b y b es mayor que c\")\n",
    "    else: \n",
    "        print (\"a es mayor que b y menor que c\")\n",
    "elif a == b:\n",
    "    print (\"a es igual que b\")\n",
    "else:\n",
    "    print (\"a es menor que b\")"
   ]
  },
  {
   "cell_type": "markdown",
   "metadata": {},
   "source": [
    "# Asteroide"
   ]
  },
  {
   "cell_type": "markdown",
   "metadata": {},
   "source": [
    "### 1\n"
   ]
  },
  {
   "cell_type": "code",
   "execution_count": 21,
   "metadata": {},
   "outputs": [
    {
     "name": "stdout",
     "output_type": "stream",
     "text": [
      "Advertencia, se acerca asteroide\n"
     ]
    }
   ],
   "source": [
    "velAsteroide = 49\n",
    "alerta = 25\n",
    "\n",
    "if velAsteroide >= alerta:\n",
    "    print(\"Advertencia, se acerca asteroide\")\n",
    "else: print(\"No hay peligro\")\n",
    "\n"
   ]
  },
  {
   "cell_type": "markdown",
   "metadata": {},
   "source": [
    "### 2"
   ]
  },
  {
   "cell_type": "code",
   "execution_count": 4,
   "metadata": {},
   "outputs": [
    {
     "name": "stdout",
     "output_type": "stream",
     "text": [
      "Votea a ver la luz en el cielo\n"
     ]
    }
   ],
   "source": [
    "velAsteroide = 19\n",
    "alerta = 20\n",
    "\n",
    "if velAsteroide == alerta:\n",
    "    print(\"Votea a ver la luz en el cielo\")\n",
    "elif velAsteroide > alerta:\n",
    "    print(\"Votea a ver la luz en el cielo\")\n",
    "else: \n",
    "    print(\"Todo normal\")\n",
    "   \n",
    "\n"
   ]
  },
  {
   "cell_type": "markdown",
   "metadata": {},
   "source": [
    "### 3"
   ]
  },
  {
   "cell_type": "code",
   "execution_count": 25,
   "metadata": {},
   "outputs": [
    {
     "name": "stdout",
     "output_type": "stream",
     "text": [
      "un gran asteroide se aproxima\n"
     ]
    }
   ],
   "source": [
    "velAsteroide = 24\n",
    "tamaño = 50\n",
    "advertencia = 25\n",
    "\n",
    "if velAsteroide >= advertencia and tamaño >25:\n",
    "    print (\"Peligro en impacto de asteroide\")\n",
    "elif tamaño > 25 and velAsteroide < advertencia:\n",
    "    print (\"un gran asteroide se aproxima\")\n",
    "elif velAsteroide >=20:\n",
    "    print (\"Voltea a ver la luz en el cielo\")\n",
    "else:\n",
    "    print (\"sin novedad\")\n",
    "\n",
    "\n",
    "\n"
   ]
  }
 ],
 "metadata": {
  "interpreter": {
   "hash": "a1eb7790b52f251fb67fa16c0efa9028546606e65e6a0a85ca1221e382956b88"
  },
  "kernelspec": {
   "display_name": "Python 3.10.2 ('env': venv)",
   "language": "python",
   "name": "python3"
  },
  "language_info": {
   "codemirror_mode": {
    "name": "ipython",
    "version": 3
   },
   "file_extension": ".py",
   "mimetype": "text/x-python",
   "name": "python",
   "nbconvert_exporter": "python",
   "pygments_lexer": "ipython3",
   "version": "3.10.2"
  },
  "orig_nbformat": 4
 },
 "nbformat": 4,
 "nbformat_minor": 2
}
