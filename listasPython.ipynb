{
 "cells": [
  {
   "cell_type": "markdown",
   "metadata": {},
   "source": [
    "### Crear y usar listas de Python"
   ]
  },
  {
   "cell_type": "code",
   "execution_count": 38,
   "metadata": {},
   "outputs": [
    {
     "name": "stdout",
     "output_type": "stream",
     "text": [
      "Existen 9 planetas y el ultimo de ellos es: Pluton\n"
     ]
    }
   ],
   "source": [
    "planetas = ['Mercurio', 'Venus', 'Tierra', 'Marte', 'Jupiter', 'Saturno', 'Urano', 'Neptuno' ]\n",
    "planetas.append('Pluton')\n",
    "\n",
    "print(f\"Existen {len(planetas)} planetas y el ultimo de ellos es: {planetas[-1]}\")"
   ]
  },
  {
   "cell_type": "markdown",
   "metadata": {},
   "source": [
    "### trabajando con datos de la lista"
   ]
  },
  {
   "cell_type": "code",
   "execution_count": 39,
   "metadata": {},
   "outputs": [
    {
     "name": "stdout",
     "output_type": "stream",
     "text": [
      "el planeta elegido es el planeta numero 3 desde el sol\n",
      "justo despues de ['Mercurio', 'Venus']\n",
      "y antes de ['Marte', 'Jupiter', 'Saturno', 'Urano', 'Neptuno', 'Pluton']\n"
     ]
    }
   ],
   "source": [
    "planeta= input(\"Proporciona el nobre de un planeta, iniciando con mayuscula\")\n",
    "miPlaneta = planetas.index(planeta)\n",
    "\n",
    "print(f\"el planeta elegido es el planeta numero {miPlaneta+1} desde el sol\" )\n",
    "print(f\"justo despues de {planetas[0:miPlaneta]}\")\n",
    "print(f\"y antes de {planetas[miPlaneta+1:]}\")\n",
    "\n",
    "\n",
    "\n",
    "\n"
   ]
  }
 ],
 "metadata": {
  "interpreter": {
   "hash": "a1eb7790b52f251fb67fa16c0efa9028546606e65e6a0a85ca1221e382956b88"
  },
  "kernelspec": {
   "display_name": "Python 3.10.2 ('env': venv)",
   "language": "python",
   "name": "python3"
  },
  "language_info": {
   "codemirror_mode": {
    "name": "ipython",
    "version": 3
   },
   "file_extension": ".py",
   "mimetype": "text/x-python",
   "name": "python",
   "nbconvert_exporter": "python",
   "pygments_lexer": "ipython3",
   "version": "3.10.2"
  },
  "orig_nbformat": 4
 },
 "nbformat": 4,
 "nbformat_minor": 2
}
